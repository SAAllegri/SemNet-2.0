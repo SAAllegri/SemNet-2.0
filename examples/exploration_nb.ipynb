{
 "cells": [
  {
   "cell_type": "markdown",
   "metadata": {},
   "source": [
    "# SemNet Training Notebook"
   ]
  },
  {
   "cell_type": "markdown",
   "metadata": {},
   "source": [
    "For any questions regarding this notebook, please contact Kevin McCoy <kmccoy8@gatech.edu> or Stephen Allegri <sallegri3@gatech.edu>"
   ]
  },
  {
   "cell_type": "markdown",
   "metadata": {},
   "source": [
    "# [0] Instructions\n",
    "1. Read the docstring and comment at the top of each cell.\n",
    "    * Docstrings detail what each cell does.\n",
    "    * Comments below the docstring detail what you need to edit in that cell.\n",
    "2. Run each cell sequentially and edit what you like.\n",
    "3. That's it! Have fun! :)\n",
    "\n",
    "* API keys and urls have been removed, replace them with your own (though it isn't required- just ignore the email/CUI retrieval functions)."
   ]
  },
  {
   "cell_type": "markdown",
   "metadata": {},
   "source": [
    "# [1] Construct Email Notification System"
   ]
  },
  {
   "cell_type": "code",
   "execution_count": null,
   "metadata": {},
   "outputs": [],
   "source": [
    "'''Construct email notification system.'''\n",
    "# Run cell\n",
    "\n",
    "import smtplib\n",
    "from email.mime.multipart import MIMEMultipart\n",
    "from email.mime.text import MIMEText\n",
    "MY_ADDRESS = ''\n",
    "PASSWORD = ''\n",
    "\n",
    "\n",
    "def send_notif(destination, subject, msg_text):\n",
    "\n",
    "    s = smtplib.SMTP(host='', port=0000)\n",
    "    s.starttls()\n",
    "    s.login(MY_ADDRESS, PASSWORD)\n",
    "\n",
    "    msg = MIMEMultipart()\n",
    "\n",
    "    msg['From'] = MY_ADDRESS\n",
    "    msg['To'] = destination\n",
    "    msg['Subject'] = subject\n",
    "\n",
    "    msg.attach(MIMEText(msg_text, 'plain'))\n",
    "\n",
    "    s.send_message(msg)\n",
    "    del msg\n",
    "\n",
    "    s.quit()"
   ]
  },
  {
   "cell_type": "code",
   "execution_count": null,
   "metadata": {},
   "outputs": [],
   "source": [
    "'''Copy and paste this cell wherever you like to notify you of code completion.'''\n",
    "# Edit below variables and then run cell\n",
    "\n",
    "destination = '' # Put your own email here\n",
    "subject = 'subject' # Edit subject line and email body how you like\n",
    "msg_text = 'Hello world!'\n",
    "\n",
    "send_notif(destination, subject, msg_text)"
   ]
  },
  {
   "cell_type": "markdown",
   "metadata": {},
   "source": [
    "# [2] Get CUIs for Concepts of Interest"
   ]
  },
  {
   "cell_type": "code",
   "execution_count": null,
   "metadata": {},
   "outputs": [],
   "source": [
    "'''UMLS API.'''\n",
    "# Run cell\n",
    "\n",
    "import lxml.html as lh\n",
    "from lxml.html import fromstring\n",
    "import requests\n",
    "import json\n",
    "\n",
    "uri = ''\n",
    "auth_endpoint = ''\n",
    "\n",
    "class Authentication:\n",
    "    \n",
    "    def __init__(self, apikey):\n",
    "        self.apikey = apikey\n",
    "        self.service = ''\n",
    "\n",
    "    def gettgt(self):\n",
    "        params = {'apikey': self.apikey}\n",
    "        h = {'Content-type': 'application/x-www-form-urlencoded', 'Accept': 'text/plain', 'User-Agent':'python' }\n",
    "        r = requests.post(uri+auth_endpoint,data=params,headers=h)\n",
    "        response = fromstring(r.text)\n",
    "        ## extract the entire URL needed from the HTML form (action attribute) returned\n",
    "        ## we make a POST call to this URL in the getst method\n",
    "        tgt = response.xpath('//form/@action')[0]\n",
    "        return tgt\n",
    "\n",
    "    def getst(self,tgt):\n",
    "        params = {'service': self.service}\n",
    "        h = {'Content-type': 'application/x-www-form-urlencoded', 'Accept': 'text/plain', 'User-Agent':'python' }\n",
    "        r = requests.post(tgt,data=params,headers=h)\n",
    "        st = r.text\n",
    "        return st\n",
    "    \n",
    "\n",
    "def get_cuis_for_concept(concept_name, page_size=1000, return_names=False):\n",
    "    '''\n",
    "    Get CUIs matching a query concept in UMLS\n",
    "    '''\n",
    "    API_KEY = ''\n",
    "    VERSION = ''\n",
    "    AuthClient = Authentication(API_KEY)\n",
    "\n",
    "    tgt = AuthClient.gettgt()\n",
    "    url = ''\n",
    "\n",
    "    content_endpoint = f'search/{VERSION}'\n",
    "\n",
    "    query = {'ticket':AuthClient.getst(tgt), 'string':concept_name, 'pageSize':page_size}\n",
    "    \n",
    "    r = requests.get(url=url+content_endpoint, params=query)\n",
    "    r.encoding = 'utf-8'\n",
    "    items = json.loads(r.text)\n",
    "    if return_names:\n",
    "        data = [[res['ui'], res['name']] for res in items['result']['results']]\n",
    "    else:\n",
    "        data = [res['ui'] for res in items['result']['results']]\n",
    "    return data\n",
    "\n",
    "\n",
    "def get_concept_for_cui(concept_cui, page_size=1000, return_names=False):\n",
    "    '''\n",
    "    Get concept for matching CUI.\n",
    "    '''\n",
    "\n",
    "    API_KEY = ''\n",
    "    VERSION = ''\n",
    "    AuthClient = Authentication(API_KEY)\n",
    "\n",
    "    tgt = AuthClient.gettgt()\n",
    "    url = ''\n",
    "\n",
    "    content_endpoint = f'/content/{VERSION}/CUI/{concept_cui}'\n",
    "\n",
    "    query = {'ticket':AuthClient.getst(tgt), 'CUI':concept_cui, 'pageSize':page_size}\n",
    "    \n",
    "    r = requests.get(url=url+content_endpoint, params=query)\n",
    "    r.encoding = 'utf-8'\n",
    "    items = json.loads(r.text)\n",
    "    \n",
    "    return items['result']['name']"
   ]
  },
  {
   "cell_type": "code",
   "execution_count": null,
   "metadata": {},
   "outputs": [],
   "source": [
    "'''Search for CUIs relating to concept.'''\n",
    "# Edit saved variables and run cell\n",
    "\n",
    "search_term = 'cardiovascular disease' # Edit\n",
    "num_results = 5 # Edit\n",
    "\n",
    "get_cuis_for_concept(search_term, page_size=num_results, return_names=True)"
   ]
  },
  {
   "cell_type": "code",
   "execution_count": null,
   "metadata": {},
   "outputs": [],
   "source": [
    "'''Search for CUIs relating to concept.'''\n",
    "# Edit saved variables and run cell\n",
    "\n",
    "search_term = 'stem cell' # Edit\n",
    "num_results = 5 # Edit\n",
    "\n",
    "get_cuis_for_concept(search_term, page_size=num_results, return_names=True)"
   ]
  },
  {
   "cell_type": "code",
   "execution_count": null,
   "metadata": {},
   "outputs": [],
   "source": [
    "'''Save CUIs of interest.'''\n",
    "# Edit cui variables\n",
    "\n",
    "# Target node\n",
    "cvd_cui = 'C0007222' # Edit\n",
    "\n",
    "# Source nodes\n",
    "embryonic_stemcells_cui = 'C0596508' # Edit\n",
    "adult_stemcells_cui = 'C1171322' # Edit\n",
    "source_node_cuis = [embryonic_stemcells_cui, adult_stemcells_cui] # Edit"
   ]
  },
  {
   "cell_type": "markdown",
   "metadata": {},
   "source": [
    "Note: In this notebook, I will be conducting an example experiment where I compare the relationship between cardiovascular disease (CVD) and adult stem cells vs embryonic stem cells. Make your guesses now, I bet the results will suprise you! :)"
   ]
  },
  {
   "cell_type": "markdown",
   "metadata": {},
   "source": [
    "# [3] Load SemNet"
   ]
  },
  {
   "cell_type": "code",
   "execution_count": null,
   "metadata": {},
   "outputs": [],
   "source": [
    "'''Import semnet and other necessary libraries.'''\n",
    "# Run cell\n",
    "\n",
    "from semnet import offline, offline_hetesim, randomized_hetesim\n",
    "import pandas as pd"
   ]
  },
  {
   "cell_type": "code",
   "execution_count": null,
   "metadata": {},
   "outputs": [],
   "source": [
    "'''Load SemNet data in pandas dataframe.'''\n",
    "# Run cell (may return warning)\n",
    "\n",
    "# Load in semnet database (should take no more than 20 seconds)\n",
    "# semnet_df = pd.read_csv('/mitchell/semnet_related_data/edges_updated.csv', index_col=0)\n",
    "semnet_df = pd.read_csv('sample_data.csv', index_col=0)"
   ]
  },
  {
   "cell_type": "code",
   "execution_count": null,
   "metadata": {},
   "outputs": [],
   "source": [
    "'''Convert dataframe to dictionary.'''\n",
    "# Run cell. Should take ~100s.\n",
    "\n",
    "edgelist = semnet_df.to_dict(orient='records')"
   ]
  },
  {
   "cell_type": "code",
   "execution_count": null,
   "metadata": {},
   "outputs": [],
   "source": [
    "'''Define SemNet relationships.'''\n",
    "# Run cell\n",
    "\n",
    "rel2inv = {'PHYSICALLY_RELATED_TO': 'PHYSICALLY_RELATED_TO',\n",
    " 'PART_OF': 'HAS_PART',\n",
    " 'CONTAINS': 'CONTAINED_IN',\n",
    " 'LOCATION_OF': 'HAS_LOCATION',\n",
    " 'TEMPORALLY_RELATED_TO': 'TEMPORALLY_RELATED_TO',\n",
    " 'CO-OCCURS_WITH': 'CO-OCCURS_WITH',\n",
    " 'PRECEDES': 'FOLLOWS',\n",
    " 'FUNCTIONALLY_RELATED_TO': 'FUNCTIONALLY_RELATED_TO',\n",
    " 'PROCESS_OF': 'HAS_PROCESS',\n",
    " 'CARRIES_OUT': 'CARRIED_OUT_BY',\n",
    " 'INTERACTS_WITH': 'INTERACTS_WITH',\n",
    " 'PRACTICES': 'PRACTICED_BY',\n",
    " 'PRODUCES': 'PRODUCED_BY',\n",
    " 'EXHIBITS': 'EXHIBITED_BY',\n",
    " 'DISRUPTS': 'DISRUPTED_BY',\n",
    " 'CAUSES': 'CAUSED_BY',\n",
    " 'PREVENTS': 'PREVENTED_BY',\n",
    " 'COMPLICATES': 'COMPLICATED_BY',\n",
    " 'MANIFESTATION_OF': 'HAS_MANIFESTATION',\n",
    " 'AFFECTS': 'AFFECTED_BY',\n",
    " 'OCCURS_IN': 'HAS_OCCURRENCE',\n",
    " 'MANAGES': 'MANAGED_BY',\n",
    " 'TREATS': 'TREATED_BY',\n",
    " 'USES': 'USED_BY',\n",
    " 'INDICATES': 'INDICATED_BY',\n",
    " 'RESULT_OF': 'HAS_RESULT',\n",
    " 'CONCEPTUALLY_RELATED_TO': 'CONCEPTUALLY_RELATED_TO',\n",
    " 'PROPERTY_OF': 'HAS_PROPERTY',\n",
    " 'CONCEPTUAL_PART_OF': 'HAS_CONCEPTUAL_PART',\n",
    " 'EVALUATION_OF': 'HAS_EVALUATION',\n",
    " 'MEASURES': 'MEASURED_BY',\n",
    " 'DIAGNOSES': 'DIAGNOSED_BY',\n",
    " 'ASSESSES_EFFECT_OF': 'ASSESSED_FOR_EFFECT_BY',\n",
    " 'ISSUE_IN': 'HAS_ISSUE',\n",
    " 'ASSOCIATED_WITH': 'ASSOCIATED_WITH',\n",
    " 'CONSISTS_OF': 'CONSTITUTES',\n",
    " 'ADJACENT_TO': 'ADJACENT_TO',\n",
    " 'CONNECTED_TO': 'CONNECTED_TO',\n",
    " 'INTERCONNECTS': 'INTERCONNECTED_BY',\n",
    " 'SURROUNDS': 'SURROUNDED_BY',\n",
    " 'TRAVERSES': 'TRAVERSED_BY',\n",
    " 'DERIVATIVE_OF': 'HAS_DERIVATIVE',\n",
    " 'DEVELOPMENTAL_FORM_OF': 'HAS_DEVELOPMENTAL_FORM',\n",
    " 'DEGREE_OF': 'HAS_DEGREE',\n",
    " 'MEASUREMENT_OF': 'HAS_MEASUREMENT',\n",
    " 'METHOD_OF': 'HAS_METHOD',\n",
    " 'ISA': 'INVERSE_ISA',\n",
    " 'BRINGS_ABOUT': 'BROUGHT_ABOUT_BY',\n",
    " 'PERFORMS': 'PERFORMED_BY',\n",
    " 'SPATIALLY_RELATED_TO': 'SPATIALLY_RELATED_TO',\n",
    " 'ANALYZES': 'ANALYZED_BY',\n",
    " 'BRANCH_OF': 'HAS_BRANCH',\n",
    " 'TRIBUTARY_OF': 'HAS_TRIBUTARY',\n",
    " 'INGREDIENT_OF': 'HAS_INGREDIENT',\n",
    " 'COMPARED_WITH': 'COMPARED_WITH',\n",
    " 'INHIBITS': 'INHIBITED_BY',\n",
    " 'STIMULATES': 'STIMULATED BY',\n",
    " 'CONVERTS_TO': 'CONVERTS_FROM',\n",
    " 'NEG_ASSOCIATED_WITH': 'NEG_ASSOCIATED_WITH',\n",
    " 'COEXISTS_WITH': 'COEXISTS_WITH',\n",
    " 'NEG_CAUSES': 'NEG_CAUSED_BY',\n",
    " 'PREDISPOSES': 'PREDISPOSED_BY',\n",
    " 'HIGHER_THAN': 'LOWER_THAN',\n",
    " 'LOWER_THAN': 'HIGHER_THAN',\n",
    " 'NEG_TREATS': 'NEG_TREATED_BY',\n",
    " 'AUGMENTS': 'AUGMENTED_BY',\n",
    " 'ADMINISTERED_TO': 'ADMINISTERED_BY',\n",
    " 'NEG_PROCESS_OF': 'NEG_HAS_PROCESS',\n",
    " 'NEG_STIMULATES': 'NEG_STIMULATED_BY',\n",
    " 'NEG_PART_OF': 'NEG_HAS_PART',\n",
    " 'NEG_AFFECTS': 'NEG_AFFECTED_BY',\n",
    " 'NEG_ADMINISTERED_TO': 'NEG_ADMINISTERED_BY',\n",
    " 'NEG_PRODUCES': 'NEG_PRODUCED_BY',\n",
    " 'NEG_COEXISTS_WITH': 'NEG_COEXISTS_WITH',\n",
    " 'NEG_INTERACTS_WITH': 'NEG_INTERACTS_WITH',\n",
    " 'NEG_AUGMENTS': 'NEG_AUGMENTED_BY',\n",
    " 'NEG_LOCATION_OF': 'NEG_HAS_LOCATION',\n",
    " 'NEG_ISA': 'NEG_ISA',\n",
    " 'SAME_AS': 'SAME_AS',\n",
    " 'NEG_INHIBITS': 'NEG_INHIBITED_BY',\n",
    " 'NEG_DISRUPTS': 'NEG_DISRUPTED_BY',\n",
    " 'NEG_USES': 'NEG_USED_BY',\n",
    " 'NEG_MEASURES': 'NEG_MEASURED_BY',\n",
    " 'NEG_PREDISPOSES': 'NEG_PREDISPOSED_BY',\n",
    " 'NEG_PREVENTS': 'NEG_PREVENTED_BY',\n",
    " 'NEG_OCCURS_IN': 'NEG_HAS_OCCURRENCE',\n",
    " 'NEG_DIAGNOSES': 'NEG_DIAGNOSED_BY',\n",
    " 'NEG_METHOD_OF': 'NEG_HAS_METHOD',\n",
    " 'NEG_HIGHER_THAN': 'NEG_LOWER_THAN',\n",
    " 'NEG_SAME_AS': 'NEG_SAME_AS',\n",
    " 'NEG_PRECEDES': 'NEG_PRECEDED_BY',\n",
    " 'NEG_CONVERTS_TO': 'NEG_CONVERTS_FROM',\n",
    " 'NEG_MANIFESTATION_OF': 'NEG_HAS_MANIFESTATION',\n",
    " 'NEG_COMPLICATES': 'NEG_COMPLICATED_BY',\n",
    " 'NEG_LOWER_THAN': 'NEG_HIGHER_THAN',\n",
    " 'NEG_MEASUREMENT_OF': 'NEG_HAS_MEASURMENT'}"
   ]
  },
  {
   "cell_type": "code",
   "execution_count": null,
   "metadata": {},
   "outputs": [],
   "source": [
    "'''Load SemNet dictionary into HetGraph object.'''\n",
    "# Run cell. Should take ~4min.\n",
    "\n",
    "semnet_graph = offline.HetGraph(edgelist, rel2inv)"
   ]
  },
  {
   "cell_type": "markdown",
   "metadata": {},
   "source": [
    "# [4] Search for available functions and their docstrings"
   ]
  },
  {
   "cell_type": "code",
   "execution_count": null,
   "metadata": {},
   "outputs": [],
   "source": [
    "'''Investigate available attributes and methods of semnet_graph.'''\n",
    "# Run cell\n",
    "\n",
    "dir(semnet_graph)"
   ]
  },
  {
   "cell_type": "code",
   "execution_count": null,
   "metadata": {},
   "outputs": [],
   "source": [
    "'''Investigate available attributes and methods of offline_hetesim.py.'''\n",
    "# Run cell\n",
    "\n",
    "dir(offline_hetesim)"
   ]
  },
  {
   "cell_type": "code",
   "execution_count": null,
   "metadata": {},
   "outputs": [],
   "source": [
    "'''Investigate available attributes and methods of randomized_hetesim.py.'''\n",
    "# Run cell\n",
    "\n",
    "dir(randomized_hetesim)"
   ]
  },
  {
   "cell_type": "code",
   "execution_count": null,
   "metadata": {},
   "outputs": [],
   "source": [
    "'''Display docstring of desired function.'''\n",
    "# Edit below function to include function of choice\n",
    "\n",
    "help(randomized_hetesim.randomized_pruned_hetesim_all_metapaths)"
   ]
  },
  {
   "cell_type": "markdown",
   "metadata": {},
   "source": [
    "For more information on SemNet, see [SemNet GitHub Repo](https://github.com/pathology-dynamics/semnet-2)"
   ]
  },
  {
   "cell_type": "markdown",
   "metadata": {},
   "source": [
    "# [5] Example Tests"
   ]
  },
  {
   "cell_type": "markdown",
   "metadata": {},
   "source": [
    "### [5a] Graph Attributes"
   ]
  },
  {
   "cell_type": "code",
   "execution_count": null,
   "metadata": {},
   "outputs": [],
   "source": [
    "'''List outgoing edges.'''\n",
    "\n",
    "node = cvd_cui\n",
    "relation = 'COMPLICATES'\n",
    "\n",
    "semnet_graph.outgoing_edges[node][relation]"
   ]
  },
  {
   "cell_type": "code",
   "execution_count": null,
   "metadata": {},
   "outputs": [],
   "source": [
    "'''List incoming edges.'''\n",
    "\n",
    "node = cvd_cui\n",
    "relation = 'COMPLICATES'\n",
    "\n",
    "semnet_graph.incoming_edges[node][relation]"
   ]
  },
  {
   "cell_type": "code",
   "execution_count": null,
   "metadata": {},
   "outputs": [],
   "source": [
    "'''Get outgoing edge weights of certain CUIs.'''\n",
    "\n",
    "node = cvd_cui\n",
    "relation = 'COMPLICATES'\n",
    "\n",
    "semnet_graph.outgoing_edge_weights[node][relation]"
   ]
  },
  {
   "cell_type": "code",
   "execution_count": null,
   "metadata": {},
   "outputs": [],
   "source": [
    "'''Get imcoming edge weights of certain CUIs.'''\n",
    "\n",
    "node = cvd_cui\n",
    "relation = 'COMPLICATES'\n",
    "\n",
    "semnet_graph.incoming_edge_weights[node][relation]"
   ]
  },
  {
   "cell_type": "code",
   "execution_count": null,
   "metadata": {},
   "outputs": [],
   "source": [
    "'''Find outgoing relations from certain node type.'''\n",
    "\n",
    "node_type = 'AAPP'\n",
    "relation = 'COMPLICATES'\n",
    "\n",
    "semnet_graph.schema_outgoing_edges[node_type][relation]"
   ]
  },
  {
   "cell_type": "code",
   "execution_count": null,
   "metadata": {},
   "outputs": [],
   "source": [
    "'''Find incoming relations from certain node type.'''\n",
    "\n",
    "node_type = 'AAPP'\n",
    "relation = 'PART_OF'\n",
    "\n",
    "semnet_graph.schema_incoming_edges[node_type][relation]"
   ]
  },
  {
   "cell_type": "code",
   "execution_count": null,
   "metadata": {},
   "outputs": [],
   "source": [
    "'''Lists CUIs of nodes of certain type.'''\n",
    "\n",
    "type_ = 'AAPP'\n",
    "\n",
    "semnet_graph.type2nodes[type_]"
   ]
  },
  {
   "cell_type": "code",
   "execution_count": null,
   "metadata": {},
   "outputs": [],
   "source": [
    "'''Gets type counts.'''\n",
    "\n",
    "semnet_graph.type_counts[cvd_cui]"
   ]
  },
  {
   "cell_type": "code",
   "execution_count": null,
   "metadata": {},
   "outputs": [],
   "source": [
    "'''Find type of node of interest.'''\n",
    "\n",
    "node = cvd_cui\n",
    "\n",
    "semnet_graph.node2type[node]"
   ]
  },
  {
   "cell_type": "code",
   "execution_count": null,
   "metadata": {},
   "outputs": [],
   "source": [
    "'''List relation types.'''\n",
    "\n",
    "semnet_graph.relations"
   ]
  },
  {
   "cell_type": "code",
   "execution_count": null,
   "metadata": {},
   "outputs": [],
   "source": [
    "'''Max one sided k of graph.'''\n",
    "\n",
    "semnet_graph.max_one_sided_k"
   ]
  },
  {
   "cell_type": "markdown",
   "metadata": {},
   "source": [
    "### [5b] Graph Methods"
   ]
  },
  {
   "cell_type": "code",
   "execution_count": null,
   "metadata": {},
   "outputs": [],
   "source": [
    "'''Get max one sided k.'''\n",
    "\n",
    "semnet_graph.get_max_one_sided_k()"
   ]
  },
  {
   "cell_type": "code",
   "execution_count": null,
   "metadata": {},
   "outputs": [],
   "source": [
    "'''Reset max one sided k.'''\n",
    "\n",
    "semnet_graph.reset_max_one_sided_k()"
   ]
  },
  {
   "cell_type": "code",
   "execution_count": null,
   "metadata": {},
   "outputs": [],
   "source": [
    "'''Compute paths.'''\n",
    "\n",
    "source_node = cvd_cui\n",
    "target_node = embryonic_stemcells_cui\n",
    "\n",
    "for obj in (semnet_graph.compute_fixed_length_paths(source_node, target_node, 2)):\n",
    "    print(obj)"
   ]
  },
  {
   "cell_type": "code",
   "execution_count": null,
   "metadata": {},
   "outputs": [],
   "source": [
    "'''Compute fixed length schema walks.'''\n",
    "\n",
    "source_node = cvd_cui\n",
    "target_node = embryonic_stemcells_cui\n",
    "\n",
    "for obj in semnet_graph.compute_fixed_length_schema_walks(source_node, target_node, 2):\n",
    "    print(obj)"
   ]
  },
  {
   "cell_type": "code",
   "execution_count": null,
   "metadata": {},
   "outputs": [],
   "source": [
    "'''Compute metapaths.'''\n",
    "\n",
    "source_node = cvd_cui\n",
    "tail_node = embryonic_stemcells_cui\n",
    "\n",
    "for obj in (semnet_graph.compute_fixed_length_metapaths(source_node, tail_node, 2)):\n",
    "    print(obj)"
   ]
  },
  {
   "cell_type": "code",
   "execution_count": null,
   "metadata": {},
   "outputs": [],
   "source": [
    "'''Find metapath reachable nodes.'''\n",
    "\n",
    "source_node = cvd_cui\n",
    "metapath = ['DSYN', 'TREATED_BY', 'LIPD', 'COMPARED_WITH', 'ORCH', 'ISA', 'NSBA', 'INTERACTS_WITH', 'CELL']\n",
    "\n",
    "semnet_graph.compute_metapath_reachable_nodes(source_node, metapath)"
   ]
  },
  {
   "cell_type": "code",
   "execution_count": null,
   "metadata": {},
   "outputs": [],
   "source": [
    "'''Reach all nodes with outgoing relationships depth away start node.'''\n",
    "\n",
    "start_node = cvd_cui\n",
    "depth = 2\n",
    "\n",
    "list(semnet_graph._fan_out(start_node, depth))"
   ]
  },
  {
   "cell_type": "code",
   "execution_count": null,
   "metadata": {},
   "outputs": [],
   "source": [
    "'''Reach all nodes with outgoing relationships depth away start node. Returns types.'''\n",
    "\n",
    "start_node = cvd_cui\n",
    "depth = 2\n",
    "\n",
    "[obj for obj in semnet_graph._schema_fan_out(start_node, depth=depth)]"
   ]
  },
  {
   "cell_type": "code",
   "execution_count": null,
   "metadata": {},
   "outputs": [],
   "source": [
    "'''Reach all nodes with incoming relationships depth away start node.'''\n",
    "\n",
    "start_node = cvd_cui\n",
    "depth = 2\n",
    "\n",
    "list(semnet_graph._fan_in(start_node, depth=depth))"
   ]
  },
  {
   "cell_type": "code",
   "execution_count": null,
   "metadata": {},
   "outputs": [],
   "source": [
    "'''Reach all nodes with outgoing relationships depth away start node.'''\n",
    "\n",
    "start_node = cvd_cui\n",
    "depth = 2\n",
    "\n",
    "list(semnet_graph._schema_fan_in(start_node, depth=depth))"
   ]
  },
  {
   "cell_type": "code",
   "execution_count": null,
   "metadata": {},
   "outputs": [],
   "source": [
    "path = ['C0007222', 'COEXISTS_WITH', 'C0024623', 'HAS_LOCATION', 'C0596508']"
   ]
  },
  {
   "cell_type": "code",
   "execution_count": null,
   "metadata": {},
   "outputs": [],
   "source": [
    "'''Creates iterator of edges to neighbors.'''\n",
    "\n",
    "node = cvd_cui\n",
    "\n",
    "list(semnet_graph._get_edges_to_nbhrs(node))"
   ]
  },
  {
   "cell_type": "code",
   "execution_count": null,
   "metadata": {},
   "outputs": [],
   "source": [
    "'''Convert a path to a metapath.'''\n",
    "\n",
    "semnet_graph._path_to_metapath(path)"
   ]
  },
  {
   "cell_type": "code",
   "execution_count": null,
   "metadata": {},
   "outputs": [],
   "source": [
    "'''Convert a path to a string.'''\n",
    "\n",
    "semnet_graph._path_to_string(path)"
   ]
  },
  {
   "cell_type": "markdown",
   "metadata": {},
   "source": [
    "### [5c] Offline HeteSim"
   ]
  },
  {
   "cell_type": "code",
   "execution_count": null,
   "metadata": {},
   "outputs": [],
   "source": [
    "end_nodes = list(semnet_graph.compute_metapath_reachable_nodes(source_node, metapath))"
   ]
  },
  {
   "cell_type": "code",
   "execution_count": null,
   "metadata": {},
   "outputs": [],
   "source": [
    "'''Hetesim on particular metapath.'''\n",
    "\n",
    "start_nodes = source_node_cuis\n",
    "\n",
    "offline_hetesim.hetesim(semnet_graph, start_nodes, end_nodes, [metapath])"
   ]
  },
  {
   "cell_type": "code",
   "execution_count": null,
   "metadata": {},
   "outputs": [],
   "source": [
    "'''HeteSim all metapaths.'''\n",
    "\n",
    "start_nodes = source_node_cuis\n",
    "\n",
    "offline_hetesim.hetesim_all_metapaths(semnet_graph, start_nodes, end_nodes, 2)"
   ]
  },
  {
   "cell_type": "code",
   "execution_count": null,
   "metadata": {},
   "outputs": [],
   "source": [
    "'''Just another way to find all metapaths'''\n",
    "\n",
    "start_nodes = source_node_cuis\n",
    "\n",
    "offline_hetesim.find_all_metapaths(semnet_graph, start_nodes, end_nodes, 2)"
   ]
  },
  {
   "cell_type": "code",
   "execution_count": null,
   "metadata": {},
   "outputs": [],
   "source": [
    "'''Take mean of hetesim across all metapaths.'''\n",
    "\n",
    "start_nodes = source_node_cuis\n",
    "end_node = adult_stemcells_cui\n",
    "\n",
    "offline_hetesim.mean_hetesim_scores(semnet_graph, start_nodes, end_node, 2)"
   ]
  },
  {
   "cell_type": "code",
   "execution_count": null,
   "metadata": {},
   "outputs": [],
   "source": [
    "'''Approximate mean hetesim across all metapaths.'''\n",
    "\n",
    "start_nodes = source_node_cuis\n",
    "\n",
    "offline_hetesim.approximate_mean_hetesim_scores(semnet_graph, start_nodes, end_node, 2, 0.05, 0.95)"
   ]
  },
  {
   "cell_type": "code",
   "execution_count": null,
   "metadata": {},
   "outputs": [],
   "source": [
    "'''Example CVD experiment.'''\n",
    "\n",
    "result_dict = offline_hetesim.mean_hetesim_scores(semnet_graph, source_node_cuis, tail_node, 2)\n",
    "\n",
    "df = pd.DataFrame(list(result_dict.items()), columns = ['cui','hetesim'])"
   ]
  },
  {
   "cell_type": "code",
   "execution_count": null,
   "metadata": {},
   "outputs": [],
   "source": [
    "df.head()"
   ]
  },
  {
   "cell_type": "markdown",
   "metadata": {},
   "source": [
    "### [5d] Randomized HeteSim"
   ]
  },
  {
   "cell_type": "code",
   "execution_count": null,
   "metadata": {},
   "outputs": [],
   "source": [
    "start_nodes = cvd_cui\n",
    "end_nodes = source_node_cuis\n",
    "metapaths = [['DSYN', 'TREATED_BY', 'AAPP', 'INTERACTS_WITH', 'CELL'],\n",
    "['DSYN', 'TREATED_BY', 'GNGM', 'INTERACTS_WITH', 'CELL'],\n",
    "['DSYN', 'TREATED_BY', 'AAPP', 'STIMULATES', 'CELL'],\n",
    "['DSYN', 'TREATED_BY', 'BACS', 'PART_OF', 'CELL']]\n",
    "kmax = 2\n",
    "epsilon = 0.05\n",
    "r = 0.95\n",
    "\n",
    "N = 100"
   ]
  },
  {
   "cell_type": "code",
   "execution_count": null,
   "metadata": {},
   "outputs": [],
   "source": [
    "'''Randmoize pruned hetesim.'''\n",
    "\n",
    "randomized_hetesim.randomized_pruned_hetesim(semnet_graph, start_nodes, end_nodes, metapaths, kmax, epsilon, r)"
   ]
  },
  {
   "cell_type": "code",
   "execution_count": null,
   "metadata": {},
   "outputs": [],
   "source": [
    "'''Randmoize pruned hetesim.'''\n",
    "\n",
    "randomized_hetesim.randomized_pruned_hetesim_given_N(semnet_graph, start_nodes, end_nodes, metapaths, kmax, N)"
   ]
  },
  {
   "cell_type": "code",
   "execution_count": null,
   "metadata": {},
   "outputs": [],
   "source": [
    "'''Randomized pruned hetesim over all metapaths.'''\n",
    "\n",
    "path_len = 2\n",
    "\n",
    "randomized_hetesim.randomized_pruned_hetesim_all_metapaths(semnet_graph, start_nodes, end_nodes, path_len, epsilon, r)"
   ]
  },
  {
   "cell_type": "code",
   "execution_count": null,
   "metadata": {},
   "outputs": [],
   "source": [
    "'''Approximation of mean pruned hetesim.'''\n",
    "\n",
    "randomized_hetesim.approximate_mean_pruned_hetesim(semnet_graph, start_nodes, end_node, path_len, epsilon, r)"
   ]
  },
  {
   "cell_type": "markdown",
   "metadata": {},
   "source": [
    "# [6] Save any desired results to .csv or .xlsx"
   ]
  },
  {
   "cell_type": "code",
   "execution_count": null,
   "metadata": {},
   "outputs": [],
   "source": [
    "'''Insert node names into df.'''\n",
    "\n",
    "for i in range(len(df.loc[:,'cui'])):\n",
    "    df.loc[i, 'name'] = get_concept_for_cui(df.loc[i, 'cui'])\n",
    "    \n",
    "df = df[['cui', 'name', 'hetesim']]"
   ]
  },
  {
   "cell_type": "code",
   "execution_count": null,
   "metadata": {},
   "outputs": [],
   "source": [
    "'''Display df.'''\n",
    "\n",
    "df.head()"
   ]
  },
  {
   "cell_type": "code",
   "execution_count": null,
   "metadata": {},
   "outputs": [],
   "source": [
    "'''Save df to .csv.'''\n",
    "\n",
    "output_fn = 'output_file.csv'\n",
    "df.to_csv(output_fn)"
   ]
  },
  {
   "cell_type": "markdown",
   "metadata": {},
   "source": [
    "# [7] Other methods of calculating HeteSim"
   ]
  },
  {
   "cell_type": "code",
   "execution_count": null,
   "metadata": {},
   "outputs": [],
   "source": [
    "'''Save search parameters.'''\n",
    "# Edit every line of this cell\n",
    "\n",
    "targets = ['C0002395', 'C0020676']\n",
    "\n",
    "sn_types = ['DSYN', 'AAPP'] # leave empty for all sn types\n",
    "sn_search_depth = 1\n",
    "hetesim_metapath_length = 2\n",
    "\n",
    "email_toggle = False\n",
    "output_toggle = True\n",
    "joint_output_toggle = True\n",
    "output_identifier = ''\n",
    "destination = '' # enter email here\n",
    "\n",
    "epsilon = 0.05 # error tolerance\n",
    "r = 0.95 # probability of achieving error tolerance"
   ]
  },
  {
   "cell_type": "code",
   "execution_count": null,
   "metadata": {},
   "outputs": [],
   "source": [
    "cui_dict = {'cui': 'name'}"
   ]
  },
  {
   "cell_type": "code",
   "execution_count": null,
   "metadata": {},
   "outputs": [],
   "source": [
    "'''Find source nodes related to target node(s).'''\n",
    "# Run cell\n",
    "\n",
    "sn_set_list = []\n",
    "\n",
    "for target in targets:\n",
    "    target_sns = set()\n",
    "    \n",
    "    for in_set, in_path in semnet_graph._fan_in(target, depth=sn_search_depth):\n",
    "        for node_type in in_set:\n",
    "            if (node_type in sn_types) or (len(sn_types) == 0):\n",
    "                target_sns.update(in_set[node_type])\n",
    "                \n",
    "    sn_set_list.append(target_sns)\n",
    "\n",
    "sn_list = list(set.intersection(*sn_set_list))"
   ]
  },
  {
   "cell_type": "code",
   "execution_count": null,
   "metadata": {},
   "outputs": [],
   "source": [
    "len(sn_list)"
   ]
  },
  {
   "cell_type": "code",
   "execution_count": null,
   "metadata": {},
   "outputs": [
    {
     "name": "stdout",
     "output_type": "stream",
     "text": [
      "CPU times: user 7min 43s, sys: 7.78 s, total: 7min 50s\n",
      "Wall time: 11min 27s\n"
     ]
    }
   ],
   "source": [
    "%%time\n",
    "\n",
    "'''Calculate HeteSim scores (No Multiprocessing).'''\n",
    "# Run cell. Will take a while.\n",
    "\n",
    "results_df_list = []\n",
    "\n",
    "for i, target in enumerate(targets):\n",
    "    result_dict = offline_hetesim.mean_hetesim_scores(semnet_graph, sn_list, target, hetesim_metapath_length)\n",
    "    sorted_result_dict = dict(sorted(result_dict.items(), key=lambda item: item[1], reverse=True))\n",
    "\n",
    "    df = pd.DataFrame(list(sorted_result_dict.items()), columns = ['source_node', 'hetesim_score'])\n",
    "    df['target_node'] = target\n",
    "    \n",
    "    for i in range(len(df.loc[:,'source_node'])):\n",
    "        df.loc[i, 'source_name'] = cui_dict.get(df.loc[i, 'source_node'], 'NA')\n",
    "        \n",
    "    df['target_name'] = cui_dict[target]\n",
    "    df = df[['source_node', 'source_name', 'target_node', 'target_name', 'hetesim_score']]\n",
    "    \n",
    "    results_df_list.append(df)\n",
    "    \n",
    "    if output_toggle:\n",
    "        if output_identifier != '':\n",
    "            output_fn = 'SemNet_results_target={}_{}.csv'.format(target, output_identifier)\n",
    "            df.to_csv(output_fn)\n",
    "        else:\n",
    "            output_fn = 'SemNet_results_target={}.csv'.format(target)\n",
    "            df.to_csv(output_fn)\n",
    "        \n",
    "    if email_toggle:\n",
    "        send_notif(destination, 'SemNet Run ' + str(((i + 1)/len(targets)) * 100) + '% Complete!', 'target: ' + str(target))"
   ]
  },
  {
   "cell_type": "code",
   "execution_count": null,
   "metadata": {},
   "outputs": [
    {
     "name": "stdout",
     "output_type": "stream",
     "text": [
      "CPU times: user 7min 1s, sys: 4.75 s, total: 7min 6s\n",
      "Wall time: 10min 36s\n"
     ]
    }
   ],
   "source": [
    "%%time\n",
    "\n",
    "'''Calculate approximate mean HeteSim scores (No Multiprocessing).'''\n",
    "# Run cell. Will take a while.\n",
    "\n",
    "results_df_list = []\n",
    "\n",
    "for i, target in enumerate(targets):\n",
    "    result_dict = offline_hetesim.approximate_mean_hetesim_scores(semnet_graph, sn_list, target, hetesim_metapath_length, epsilon, r)\n",
    "    sorted_result_dict = dict(sorted(result_dict.items(), key=lambda item: item[1], reverse=True))\n",
    "\n",
    "    df = pd.DataFrame(list(sorted_result_dict.items()), columns = ['source_node', 'approximate_mean_hetesim_score'])\n",
    "    df['target_node'] = target\n",
    "    \n",
    "    for i in range(len(df.loc[:,'source_node'])):\n",
    "        df.loc[i, 'source_name'] = cui_dict.get(df.loc[i, 'source_node'], 'NA')\n",
    "        \n",
    "    df['target_name'] = cui_dict[target]\n",
    "    df = df[['source_node', 'source_name', 'target_node', 'target_name', 'approximate_mean_hetesim_score']]\n",
    "    \n",
    "    results_df_list.append(df)\n",
    "    \n",
    "    if output_toggle:\n",
    "        if output_identifier != '':\n",
    "            output_fn = 'approximate_mean_SemNet_results_target={}_{}.csv'.format(target, output_identifier)\n",
    "            df.to_csv(output_fn)\n",
    "        else:\n",
    "            output_fn = 'approximate_mean_SemNet_results_target={}.csv'.format(target)\n",
    "            df.to_csv(output_fn)\n",
    "        \n",
    "    if email_toggle:\n",
    "        send_notif(destination, 'SemNet Run ' + str(((i + 1)/len(targets)) * 100) + '% Complete!', 'target: ' + str(target))"
   ]
  },
  {
   "cell_type": "code",
   "execution_count": null,
   "metadata": {},
   "outputs": [],
   "source": [
    "'''Multiprocessing Setup'''\n",
    "# Run cell.\n",
    "\n",
    "num_cpus = 40\n",
    "\n",
    "from pathos.multiprocessing import ProcessingPool as Pool\n",
    "\n",
    "def divide(lst, n):\n",
    "    p = len(lst) // n\n",
    "    if len(lst)-p > 0:\n",
    "        return [lst[:p]] + divide(lst[p:], n-1)\n",
    "    else:\n",
    "        return [lst]\n",
    "\n",
    "source_nodes = divide(sn_list, num_cpus)\n",
    "\n",
    "results_df_list = []"
   ]
  },
  {
   "cell_type": "code",
   "execution_count": null,
   "metadata": {},
   "outputs": [
    {
     "name": "stdout",
     "output_type": "stream",
     "text": [
      "CPU times: user 1min 14s, sys: 21.1 s, total: 1min 35s\n",
      "Wall time: 5min 40s\n"
     ]
    }
   ],
   "source": [
    "%%time\n",
    "\n",
    "'''Calculate approximate mean HeteSim scores (WITH multiprocessing).'''\n",
    "# Run cell. Will take a while.\n",
    "\n",
    "results_df_list = []\n",
    "\n",
    "for i, target in enumerate(targets):\n",
    "\n",
    "    def myFunc(sources):\n",
    "        return offline_hetesim.mean_hetesim_scores(semnet_graph, sources, target, hetesim_metapath_length)\n",
    "\n",
    "    pool = Pool(40)\n",
    "    results = pool.map(myFunc, source_nodes)\n",
    "    pool.clear()\n",
    "\n",
    "    result_dict = {k:v for x in results for k,v in x.items()}\n",
    "\n",
    "    sorted_result_dict = dict(sorted(result_dict.items(), key=lambda item: item[1], reverse=True))\n",
    "\n",
    "    df = pd.DataFrame(list(sorted_result_dict.items()), columns = ['source_node', 'approximate_mean_hetesim_score'])\n",
    "    df['target_node'] = target\n",
    "    \n",
    "    for i in range(len(df.loc[:,'source_node'])):\n",
    "        df.loc[i, 'source_name'] = cui_dict.get(df.loc[i, 'source_node'], 'NA')\n",
    "        \n",
    "    df['target_name'] = cui_dict[target]\n",
    "    df = df[['source_node', 'source_name', 'target_node', 'target_name', 'approximate_mean_hetesim_score']]\n",
    "    \n",
    "    results_df_list.append(df)\n",
    "    \n",
    "    if output_toggle:\n",
    "        if output_identifier != '':\n",
    "            output_fn = 'approximate_mean_SemNet_results_target={}_{}.csv'.format(target, output_identifier)\n",
    "            df.to_csv(output_fn)\n",
    "        else:\n",
    "            output_fn = 'approximate_mean_SemNet_results_target={}.csv'.format(target)\n",
    "            df.to_csv(output_fn)\n",
    "        \n",
    "    if email_toggle:\n",
    "        send_notif(destination, 'SemNet Run ' + str(((i + 1)/len(targets)) * 100) + '% Complete!', 'target: ' + str(target))"
   ]
  }
 ],
 "metadata": {
  "interpreter": {
   "hash": "62aed7136f29c1ce03e7b854e6659f9cb67d92607d7eef69dc58204d9c43bb4f"
  },
  "kernelspec": {
   "display_name": "Python [default]",
   "language": "python",
   "name": "python3"
  },
  "language_info": {
   "codemirror_mode": {
    "name": "ipython",
    "version": 3
   },
   "file_extension": ".py",
   "mimetype": "text/x-python",
   "name": "python",
   "nbconvert_exporter": "python",
   "pygments_lexer": "ipython3",
   "version": "3.6.10"
  }
 },
 "nbformat": 4,
 "nbformat_minor": 2
}
